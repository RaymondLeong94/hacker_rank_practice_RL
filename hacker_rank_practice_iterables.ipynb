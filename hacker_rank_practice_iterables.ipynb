{
  "nbformat": 4,
  "nbformat_minor": 0,
  "metadata": {
    "colab": {
      "provenance": [],
      "authorship_tag": "ABX9TyOvm7eN+kXAKjrzcDvQol3f",
      "include_colab_link": true
    },
    "kernelspec": {
      "name": "python3",
      "display_name": "Python 3"
    },
    "language_info": {
      "name": "python"
    }
  },
  "cells": [
    {
      "cell_type": "markdown",
      "metadata": {
        "id": "view-in-github",
        "colab_type": "text"
      },
      "source": [
        "<a href=\"https://colab.research.google.com/github/RaymondLeong94/hacker_rank_practice_RL/blob/main/hacker_rank_practice_iterables.ipynb\" target=\"_parent\"><img src=\"https://colab.research.google.com/assets/colab-badge.svg\" alt=\"Open In Colab\"/></a>"
      ]
    },
    {
      "cell_type": "markdown",
      "source": [
        "Task\n",
        "\n",
        "You are given a string .\n",
        "Your task is to print all possible combinations, up to size , of the string in lexicographic sorted order.\n",
        "\n",
        "Input Format\n",
        "\n",
        "A single line containing the string  and integer value  separated by a space.\n",
        "\n",
        "Constraints\n",
        "\n",
        "\n",
        "The string contains only UPPERCASE characters.\n",
        "\n",
        "Output Format\n",
        "\n",
        "Print the different combinations of string  on separate lines."
      ],
      "metadata": {
        "id": "8iLQ2nyR1DHq"
      }
    },
    {
      "cell_type": "code",
      "execution_count": 1,
      "metadata": {
        "colab": {
          "base_uri": "https://localhost:8080/"
        },
        "id": "376EB-n905SA",
        "outputId": "a6ee9392-fced-43eb-c06f-54667066291b"
      },
      "outputs": [
        {
          "output_type": "stream",
          "name": "stdout",
          "text": [
            "hacker 2\n",
            "ac\n",
            "ae\n",
            "ah\n",
            "ak\n",
            "ar\n",
            "ca\n",
            "ce\n",
            "ch\n",
            "ck\n",
            "cr\n",
            "ea\n",
            "ec\n",
            "eh\n",
            "ek\n",
            "er\n",
            "ha\n",
            "hc\n",
            "he\n",
            "hk\n",
            "hr\n",
            "ka\n",
            "kc\n",
            "ke\n",
            "kh\n",
            "kr\n",
            "ra\n",
            "rc\n",
            "re\n",
            "rh\n",
            "rk\n"
          ]
        }
      ],
      "source": [
        "#itertools.combinations(iterable, r)\n",
        "from itertools import permutations\n",
        "#split input\n",
        "\n",
        "\n",
        "str1, int1 = input().split()\n",
        "int1 = int(int1)\n",
        "while int1 >= 0:\n",
        "    for i in sorted(permutations(str1, int1)):\n",
        "        print (''.join(i))\n",
        "        int1 = int1 + 1\n",
        "    else:\n",
        "        break\n",
        "\n"
      ]
    },
    {
      "cell_type": "markdown",
      "source": [
        "Task\n",
        "\n",
        "You are given a string .\n",
        "Your task is to print all possible combinations, up to size , of the string in lexicographic sorted order.\n",
        "\n",
        "Input Format\n",
        "\n",
        "A single line containing the string  and integer value  separated by a space.\n",
        "\n",
        "Constraints\n",
        "\n",
        "\n",
        "The string contains only UPPERCASE characters.\n",
        "\n",
        "Output Format\n",
        "\n",
        "Print the different combinations of string  on separate lines.\n",
        "\n",
        "Sample Input"
      ],
      "metadata": {
        "id": "U5RzCM40uldj"
      }
    },
    {
      "cell_type": "code",
      "source": [
        "from itertools import combinations_with_replacement\n",
        "word , length  = input().split()\n",
        "for i in range(2, int(length)+1):\n",
        "    for j in combinations_with_replacement(sorted(word), i):\n",
        "        print (''.join(j))"
      ],
      "metadata": {
        "colab": {
          "base_uri": "https://localhost:8080/"
        },
        "id": "PfQXi3KcuvBZ",
        "outputId": "f5f3867a-76d8-4042-8ced-097853cb1e9a"
      },
      "execution_count": null,
      "outputs": [
        {
          "output_type": "stream",
          "name": "stdout",
          "text": [
            "a 2\n",
            "aa\n"
          ]
        }
      ]
    },
    {
      "cell_type": "markdown",
      "source": [
        "You are given a string . Suppose a character '' occurs consecutively  times in the string. Replace these consecutive occurrences of the character '' with  in the string.\n",
        "\n",
        "For a better understanding of the problem, check the explanation.\n",
        "\n",
        "Input Format\n",
        "\n",
        "A single line of input consisting of the string .\n",
        "\n",
        "Output Format\n",
        "\n",
        "A single line of output consisting of the modified string.\n",
        "\n",
        "Constraints\n",
        "\n",
        "All the characters of  denote integers between  and .\n",
        "\n",
        "\n",
        "Sample Input"
      ],
      "metadata": {
        "id": "lwHYPM8IKAZj"
      }
    },
    {
      "cell_type": "code",
      "source": [
        "# importing the groupby method\n",
        "from itertools import groupby\n",
        "\n",
        "# using for loop to iterate through the string\n",
        "for k, c in groupby(input()):\n",
        "\n",
        "    #printing the output\n",
        "    print(\"(%d, %d)\" % (len(list(c)), int(k)), end=' ')"
      ],
      "metadata": {
        "colab": {
          "base_uri": "https://localhost:8080/"
        },
        "id": "eKIk9ifRdEaz",
        "outputId": "93dd2c72-7d10-4463-86c5-abf0a30529a2"
      },
      "execution_count": 29,
      "outputs": [
        {
          "output_type": "stream",
          "name": "stdout",
          "text": [
            "1222311\n",
            "(1, 1) (3, 2) (1, 3) (2, 1) "
          ]
        }
      ]
    },
    {
      "cell_type": "code",
      "source": [
        "groupby(input())"
      ],
      "metadata": {
        "colab": {
          "base_uri": "https://localhost:8080/"
        },
        "id": "-6A8Qm_FfIEv",
        "outputId": "c804675d-5f52-4cf6-da73-fb66a66b0c8e"
      },
      "execution_count": 30,
      "outputs": [
        {
          "name": "stdout",
          "output_type": "stream",
          "text": [
            "1222311\n"
          ]
        },
        {
          "output_type": "execute_result",
          "data": {
            "text/plain": [
              "<itertools.groupby at 0x7f003cf9d440>"
            ]
          },
          "metadata": {},
          "execution_count": 30
        }
      ]
    },
    {
      "cell_type": "code",
      "source": [],
      "metadata": {
        "colab": {
          "base_uri": "https://localhost:8080/"
        },
        "id": "QbN1hapkfs25",
        "outputId": "ce04bf6d-ef38-4697-b9bb-31992af9d8f6"
      },
      "execution_count": 28,
      "outputs": [
        {
          "output_type": "execute_result",
          "data": {
            "text/plain": [
              "[['A', 'A', 'A', 'A'], ['B', 'B', 'B'], ['C', 'C'], ['D'], ['A', 'A'], ['B']]"
            ]
          },
          "metadata": {},
          "execution_count": 28
        }
      ]
    },
    {
      "cell_type": "code",
      "source": [
        "#count how many objects are in value count\n",
        "for"
      ],
      "metadata": {
        "id": "XIT6nqD_fuiZ"
      },
      "execution_count": null,
      "outputs": []
    }
  ]
}